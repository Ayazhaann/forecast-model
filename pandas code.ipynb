{
 "cells": [
  {
   "cell_type": "code",
   "execution_count": null,
   "id": "98485288",
   "metadata": {},
   "outputs": [],
   "source": [
    "C:\\\\Users\\\\User\\\\Deskto\\\\pmath_students.csv"
   ]
  },
  {
   "cell_type": "code",
   "execution_count": 4,
   "id": "956df470",
   "metadata": {},
   "outputs": [
    {
     "name": "stdout",
     "output_type": "stream",
     "text": [
      "  school sex  age address famsize Pstatus  Medu  Fedu     Mjob      Fjob  ...  \\\n",
      "0     GP   F   18       U     GT3       A     4     4  at_home   teacher  ...   \n",
      "1     GP   F   17       U     GT3       T     1     1  at_home     other  ...   \n",
      "2     GP   F   15       U     LE3       T     1     1  at_home     other  ...   \n",
      "3     GP   F   15       U     GT3       T     4     2   health  services  ...   \n",
      "4     GP   F   16       U     GT3       T     3     3    other     other  ...   \n",
      "\n",
      "  famrel freetime  goout  Dalc  Walc health absences  G1  G2  G3  \n",
      "0      4        3      4     1     1      3        6   5   6   6  \n",
      "1      5        3      3     1     1      3        4   5   5   6  \n",
      "2      4        3      2     2     3      3       10   7   8  10  \n",
      "3      3        2      2     1     1      5        2  15  14  15  \n",
      "4      4        3      2     1     2      5        4   6  10  10  \n",
      "\n",
      "[5 rows x 33 columns]\n"
     ]
    }
   ],
   "source": [
    "import pandas as pd\n",
    "\n",
    "# Укажите полный путь к файлу\n",
    "data = pd.read_csv('C:\\\\Users\\\\User\\\\Desktop\\\\math_students.csv')\n",
    "\n",
    "# Печать первых 5 строк\n",
    "print(data.head())\n"
   ]
  },
  {
   "cell_type": "code",
   "execution_count": 5,
   "id": "89a2e823",
   "metadata": {},
   "outputs": [
    {
     "name": "stdout",
     "output_type": "stream",
     "text": [
      "Размер таблицы: (395, 33)\n"
     ]
    }
   ],
   "source": [
    "# Размер таблицы\n",
    "print(\"Размер таблицы:\", data.shape)\n"
   ]
  },
  {
   "cell_type": "markdown",
   "id": "bdf8ce83",
   "metadata": {},
   "source": [
    "Пропорция выживших пассажиров и пропорция мужчин и женщин среди выживших"
   ]
  },
  {
   "cell_type": "code",
   "execution_count": 8,
   "id": "288e72cf",
   "metadata": {},
   "outputs": [
    {
     "name": "stdout",
     "output_type": "stream",
     "text": [
      "Средний возраст студентов: 16.696202531645568\n",
      "\n",
      "Пропорция мужчин и женщин:\n",
      "sex\n",
      "F    0.526582\n",
      "M    0.473418\n",
      "Name: proportion, dtype: float64\n",
      "\n",
      "Средняя итоговая оценка (G3): 10.415189873417722\n"
     ]
    }
   ],
   "source": [
    "# Средний возраст студентов\n",
    "average_age = data['age'].mean()\n",
    "print(\"Средний возраст студентов:\", average_age)\n",
    "\n",
    "# Пропорция мужчин и женщин\n",
    "gender_proportion = data['sex'].value_counts(normalize=True)\n",
    "print(\"\\nПропорция мужчин и женщин:\")\n",
    "print(gender_proportion)\n",
    "\n",
    "# Средняя итоговая оценка (G3)\n",
    "average_final_grade = data['G3'].mean()\n",
    "print(\"\\nСредняя итоговая оценка (G3):\", average_final_grade)\n"
   ]
  },
  {
   "cell_type": "markdown",
   "id": "cd04b0be",
   "metadata": {},
   "source": [
    " Количество пассажиров в каждом классе, кто был больше — мужчины или женщины"
   ]
  },
  {
   "cell_type": "code",
   "execution_count": 20,
   "id": "02bdb6ae",
   "metadata": {},
   "outputs": [
    {
     "name": "stdout",
     "output_type": "stream",
     "text": [
      "Количество пассажиров по классам:\n",
      "Pclass\n",
      "Braund       1\n",
      "Cumings      1\n",
      "Heikkinen    1\n",
      "Futrelle     1\n",
      "Allen        1\n",
      "Moran        1\n",
      "McCarthy     1\n",
      "Palsson      1\n",
      "Johnson      1\n",
      "Nyberg       1\n",
      "Name: count, dtype: int64\n",
      "Мужчины и женщины по классам:\n",
      "Pol passajir  female  male  unknown\n",
      "Pclass                             \n",
      "Allen            NaN   1.0      NaN\n",
      "Braund           NaN   1.0      NaN\n",
      "Cumings          1.0   NaN      NaN\n",
      "Futrelle         1.0   NaN      NaN\n",
      "Heikkinen        1.0   NaN      NaN\n",
      "Johnson          1.0   NaN      NaN\n",
      "McCarthy         1.0   NaN      NaN\n",
      "Moran            NaN   1.0      NaN\n",
      "Nyberg           NaN   NaN      1.0\n",
      "Palsson          NaN   1.0      NaN\n"
     ]
    }
   ],
   "source": [
    "# Количество студентов по школам\n",
    "students_by_school = data['school'].value_counts()\n",
    "print(\"Количество студентов по школам:\")\n",
    "print(students_by_school)\n",
    "\n",
    "# Количество мужчин и женщин по школам\n",
    "gender_by_school = data.groupby(['school', 'sex']).size().unstack()\n",
    "print(\"\\nМужчины и женщины по школам:\")\n",
    "print(gender_by_school)\n",
    "\n",
    "# Средняя итоговая оценка (G3) по школам\n",
    "average_grade_by_school = data.groupby('school')['G3'].mean()\n",
    "print(\"\\nСредняя итоговая оценка (G3) по школам:\")\n",
    "print(average_grade_by_school)\n",
    "\n"
   ]
  },
  {
   "cell_type": "markdown",
   "id": "c76e3d78",
   "metadata": {},
   "source": [
    "Гистограмма для распределения цен на билеты в зависимости от места посадки"
   ]
  },
  {
   "cell_type": "code",
   "execution_count": 9,
   "id": "b1fbf629",
   "metadata": {},
   "outputs": [
    {
     "data": {
      "image/png": "[encoded data removed]",
      "text/plain": [
       "<Figure size 1000x600 with 1 Axes>"
      ]
     },
     "metadata": {},
     "output_type": "display_data"
    }
   ],
   "source": [
    "import matplotlib.pyplot as plt\n",
    "\n",
    "# Гистограмма распределения итоговых оценок (G3)\n",
    "plt.figure(figsize=(10, 6))\n",
    "plt.hist(data['G3'], bins=15, color='skyblue', edgecolor='black', alpha=0.7)\n",
    "plt.title('Распределение итоговых оценок (G3)')\n",
    "plt.xlabel('Оценка G3')\n",
    "plt.ylabel('Частота')\n",
    "plt.grid(axis='y', linestyle='--', alpha=0.7)\n",
    "plt.show()\n"
   ]
  }
 ],
 "metadata": {
  "kernelspec": {
   "display_name": "Python 3 (ipykernel)",
   "language": "python",
   "name": "python3"
  },
  "language_info": {
   "codemirror_mode": {
    "name": "ipython",
    "version": 3
   },
   "file_extension": ".py",
   "mimetype": "text/x-python",
   "name": "python",
   "nbconvert_exporter": "python",
   "pygments_lexer": "ipython3",
   "version": "3.11.5"
  }
 },
 "nbformat": 4,
 "nbformat_minor": 5
}
